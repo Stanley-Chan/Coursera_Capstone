{
    "cells": [
        {
            "metadata": {
                "collapsed": true
            },
            "cell_type": "markdown",
            "source": "# Capstone Project - The Battle of Neighborhoods (Week 1)"
        },
        {
            "metadata": {},
            "cell_type": "markdown",
            "source": "## *Background Of The Project*"
        },
        {
            "metadata": {},
            "cell_type": "markdown",
            "source": "*In this capstone project we are going to use what we learnt from our course and creatively to come up with an idea to leverage the Foursquare location data to explore or compare neighborhoods or cities of your choice or to come up with a problem that you can use the Foursquare location data to solve.<br>\nWe need to make sure to provide sufficient justification of why you think what you want to do or solve is important and why would a client or a group of people be interested in your project.<br>\nMy project <strong>Impact</strong> is to set to resolve one of the most important <strong>social issue, neighborhood crime, which is co-relate with its neighborhood resources</strong>.*"
        },
        {
            "metadata": {},
            "cell_type": "markdown",
            "source": "### *The Problem*"
        },
        {
            "metadata": {},
            "cell_type": "markdown",
            "source": "*A neighborhood can be defined as \"A district or area with distinctive characteristics\". <br>This research paper https://pubmed.ncbi.nlm.nih.gov/22830936/ suggest that socio-demographic characteristics of neighborhoods and neighborhood processes are both predictive of crime and safety. Further, some neighborhood conditions may affect crime and safety in unexpected ways.<br>Neighborhood institutional resource models also suggest, whereby neighborhood resources are believed to affect children and adolescents through access to resources such as parks and libraries, as well as community service centers that promote positive, healthy development. \n<br>This lead to the problem statement, <strong>\u201chow we could create a better neighborhood by creating a better neighborhood resources in fighting the crime?\u201d</strong>*  "
        },
        {
            "metadata": {},
            "cell_type": "markdown",
            "source": "### *The Target Audience*"
        },
        {
            "metadata": {},
            "cell_type": "markdown",
            "source": "*This project is to help the <strong>government</strong> for future city planning and also to improve the neighborhood resources with high neighborhood crime area.<br>\nThis project is also to helping the <strong>business opportunist and nonprofit organization</strong> to understand how they can create a better neighborhood by creating their business model that could help in creating positive impact to the neighborhood.*\n"
        },
        {
            "metadata": {},
            "cell_type": "markdown",
            "source": "### *How We Solve It?*"
        },
        {
            "metadata": {},
            "cell_type": "markdown",
            "source": "*My project is to create a platform to help in identify what are the positive neighborhood resources and venues that could results a low crime rate neighborhood and what are the negative neighborhood resources and venues that results a high crime rate neighborhood. <br>I am also going to use the <strong>unsupervised learning</strong> to detect the pattern of the <strong>neighborhood resources and venues with its crime rate</strong>. By understanding the top 10 positive and negative neighborhood resources and venues based on the pattern, we could <strong>create hypothesis to test the assumption.</strong><br>If the hypothesis shown that the positive neighborhood resources and venues could help in reducing the crime rate, this model could be used by government for future city planning and also to improve the neighborhood resources with high neighborhood crime area. Lowering the crime rate will helps in driving the business to invest into the neighborhood and this will also resolve the neighborhood poverty.* "
        },
        {
            "metadata": {},
            "cell_type": "markdown",
            "source": "## *How Should We Start?*"
        },
        {
            "metadata": {},
            "cell_type": "markdown",
            "source": "### *The Data*"
        },
        {
            "metadata": {},
            "cell_type": "markdown",
            "source": "*We are going to start the journey with collecting the data that is available online, these are the dataset that we are going to be used in this project.*\n<br>\n\n<Strong>*Neighborhood Crime Data*</Strong><br> \n*Crime in Baltimore<br>\nDataset in Kaggle : https://www.kaggle.com/sohier/crime-in-baltimore<br>\nHow we use the Dataset : We are going to use this dataset to identify the neighborhood crimes, total number of crimes and in which neighborhood of the crimes that is happened<br>\nDataset Information : 40MB, CSV format, 15 columns*\n<br>\n\n\n<Strong>*Neighborhood Resources & Venues Data*</Strong><br> \n*Dataset from FourSquare API<br> \nHow we use the Dataset : We are going to use this dataset to identify the neighborhood Resources & Venues Data. We will explore and understand the top 10 actors from this dataset<br>\nDataset Information : REST API*\n<br> \n\n*The dataset collected will be used for identifying patterns in between the Crime in Baltimore VS Neighborhood Resources & Venues\nThe unsupervised learning will group all the similiar Neighborhood Resources & Venues for the highest crime neighborhood and lowest crime neighborhood\nWe will analyze the differences between these 2 neighborhoods*\n<br> "
        },
        {
            "metadata": {},
            "cell_type": "code",
            "source": "",
            "execution_count": null,
            "outputs": []
        }
    ],
    "metadata": {
        "kernelspec": {
            "name": "python3",
            "display_name": "Python 3.7",
            "language": "python"
        },
        "language_info": {
            "name": "python",
            "version": "3.7.10",
            "mimetype": "text/x-python",
            "codemirror_mode": {
                "name": "ipython",
                "version": 3
            },
            "pygments_lexer": "ipython3",
            "nbconvert_exporter": "python",
            "file_extension": ".py"
        }
    },
    "nbformat": 4,
    "nbformat_minor": 1
}