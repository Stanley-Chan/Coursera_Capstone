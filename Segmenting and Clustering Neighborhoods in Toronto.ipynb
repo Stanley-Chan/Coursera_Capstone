{
    "cells": [
        {
            "metadata": {
                "collapsed": true
            },
            "cell_type": "markdown",
            "source": "# Segmenting and Clustering Neighborhoods in Toronto"
        },
        {
            "metadata": {},
            "cell_type": "markdown",
            "source": "Explore, segment, and cluster the neighborhoods in the city of Toronto based on the postalcode and borough information. \n\nHowever, unlike New York, the neighborhood data is not readily available on the internet. "
        },
        {
            "metadata": {},
            "cell_type": "markdown",
            "source": "## Data Scrape List of Postal Codes Of Canada\nBuild the code to scrape the following Wikipedia page, https://en.wikipedia.org/wiki/List_of_postal_codes_of_Canada:_M, in order to obtain the data that is in the table of postal codes and to transform the data into a pandas  dataframe"
        },
        {
            "metadata": {},
            "cell_type": "code",
            "source": "import numpy as np\nimport pandas as pd # library for data analsysis\npd.set_option('display.max_columns', None)\npd.set_option('display.max_rows', None)\nimport requests\nfrom bs4 import BeautifulSoup\nimport re\nprint('Libraries imported.')\n\ntargeturl = 'https://en.wikipedia.org/wiki/List_of_postal_codes_of_Canada:_M'\nhtml_data = requests.get(targeturl) \nbeautiful_soup = BeautifulSoup(html_data.content, 'html.parser')\nprint('HTML Data downloaded!')\n\n\nhtml_containers = beautiful_soup.find(\"table\").find_all(\"p\")\n\n#The dataframe will consist of three columns: PostalCode, Borough, and Neighborhood\nCanada_Data = pd.DataFrame(columns=[\"PostalCode\", \"Borough\", \"Neighborhood\"])\n\nfor row in html_containers:    \n    #Only process the cells that have an assigned borough. Ignore cells with a borough that is Not assigned.\n    if row.span.text != 'Not assigned' :\n        postalcode = row.b.text\n        borough = (row.span.text.replace('(',',').replace(')','').replace('/',','))\n        borough = (re.split((','), borough))\n        Canada_Data = Canada_Data.append({\"PostalCode\":postalcode, \"Borough\":borough[0], \"Neighborhood\":borough[1:]}, ignore_index=True)\n               \n#In the last cell of your notebook, use the .shape method to print the number of rows of your dataframe.\nprint(Canada_Data.shape)\n   ",
            "execution_count": 5,
            "outputs": [
                {
                    "output_type": "stream",
                    "text": "Libraries imported.\nHTML Data downloaded!\n(103, 3)\n",
                    "name": "stdout"
                }
            ]
        },
        {
            "metadata": {},
            "cell_type": "code",
            "source": "",
            "execution_count": null,
            "outputs": []
        },
        {
            "metadata": {},
            "cell_type": "code",
            "source": "",
            "execution_count": null,
            "outputs": []
        }
    ],
    "metadata": {
        "kernelspec": {
            "name": "python3",
            "display_name": "Python 3.7",
            "language": "python"
        },
        "language_info": {
            "name": "python",
            "version": "3.7.10",
            "mimetype": "text/x-python",
            "codemirror_mode": {
                "name": "ipython",
                "version": 3
            },
            "pygments_lexer": "ipython3",
            "nbconvert_exporter": "python",
            "file_extension": ".py"
        }
    },
    "nbformat": 4,
    "nbformat_minor": 1
}