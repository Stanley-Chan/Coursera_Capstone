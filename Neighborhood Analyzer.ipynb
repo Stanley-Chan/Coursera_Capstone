{
    "cells": [
        {
            "metadata": {
                "collapsed": true
            },
            "cell_type": "markdown",
            "source": "# IBM Data Science Capstone Project : Neighborhood Analyzer"
        },
        {
            "metadata": {},
            "cell_type": "markdown",
            "source": "### Project Description"
        },
        {
            "metadata": {},
            "cell_type": "markdown",
            "source": "#### Problem Statement\nTo move to a new neighborhood that we dont understand is always a risk and frustration, this is due to the new neighborhood might have less infrastructure, higher crime rate, higher daily expanses and etc.\n\n#### Capstone Project Solution\nMy capstone project is to create a notebook that could help the community to analyze their current neighborhood to understand and to minimize risks of moving to a new neighborhood.  "
        },
        {
            "metadata": {},
            "cell_type": "code",
            "source": "import numpy as mp\nimport pandas as pd\n\nprint('Hello Capstone Project Course!')",
            "execution_count": 2,
            "outputs": [
                {
                    "output_type": "stream",
                    "text": "Hello Capstone Project Course!\n",
                    "name": "stdout"
                }
            ]
        },
        {
            "metadata": {},
            "cell_type": "code",
            "source": "",
            "execution_count": null,
            "outputs": []
        }
    ],
    "metadata": {
        "kernelspec": {
            "name": "python3",
            "display_name": "Python 3.7",
            "language": "python"
        },
        "language_info": {
            "name": "python",
            "version": "3.7.9",
            "mimetype": "text/x-python",
            "codemirror_mode": {
                "name": "ipython",
                "version": 3
            },
            "pygments_lexer": "ipython3",
            "nbconvert_exporter": "python",
            "file_extension": ".py"
        }
    },
    "nbformat": 4,
    "nbformat_minor": 1
}